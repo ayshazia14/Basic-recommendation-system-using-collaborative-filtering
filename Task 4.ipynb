{
 "cells": [
  {
   "cell_type": "code",
   "id": "initial_id",
   "metadata": {
    "collapsed": true,
    "ExecuteTime": {
     "end_time": "2024-09-20T06:52:39.488268Z",
     "start_time": "2024-09-20T06:52:39.486351Z"
    }
   },
   "source": [
    "import pandas as pd\n",
    "import numpy as np\n",
    "import matplotlib.pyplot as plt\n",
    "import os"
   ],
   "outputs": [],
   "execution_count": 1
  },
  {
   "metadata": {
    "ExecuteTime": {
     "end_time": "2024-09-20T06:54:02.077317Z",
     "start_time": "2024-09-20T06:54:02.030827Z"
    }
   },
   "cell_type": "code",
   "source": "movie = pd.read_csv(\"/Users/AyshaZia/Desktop/movie.csv\")  ",
   "id": "79856b2a367b3a3b",
   "outputs": [],
   "execution_count": 5
  },
  {
   "metadata": {
    "ExecuteTime": {
     "end_time": "2024-09-20T06:58:15.256231Z",
     "start_time": "2024-09-20T06:58:15.227879Z"
    }
   },
   "cell_type": "code",
   "source": [
    "movie = movie.loc[:,[\"movieId\",\"title\"]]\n",
    "movie.head()"
   ],
   "id": "113ac260e08127f4",
   "outputs": [
    {
     "data": {
      "text/plain": [
       "   movieId                               title\n",
       "0        1                    Toy Story (1995)\n",
       "1        2                      Jumanji (1995)\n",
       "2        3             Grumpier Old Men (1995)\n",
       "3        4            Waiting to Exhale (1995)\n",
       "4        5  Father of the Bride Part II (1995)"
      ],
      "text/html": [
       "<div>\n",
       "<style scoped>\n",
       "    .dataframe tbody tr th:only-of-type {\n",
       "        vertical-align: middle;\n",
       "    }\n",
       "\n",
       "    .dataframe tbody tr th {\n",
       "        vertical-align: top;\n",
       "    }\n",
       "\n",
       "    .dataframe thead th {\n",
       "        text-align: right;\n",
       "    }\n",
       "</style>\n",
       "<table border=\"1\" class=\"dataframe\">\n",
       "  <thead>\n",
       "    <tr style=\"text-align: right;\">\n",
       "      <th></th>\n",
       "      <th>movieId</th>\n",
       "      <th>title</th>\n",
       "    </tr>\n",
       "  </thead>\n",
       "  <tbody>\n",
       "    <tr>\n",
       "      <th>0</th>\n",
       "      <td>1</td>\n",
       "      <td>Toy Story (1995)</td>\n",
       "    </tr>\n",
       "    <tr>\n",
       "      <th>1</th>\n",
       "      <td>2</td>\n",
       "      <td>Jumanji (1995)</td>\n",
       "    </tr>\n",
       "    <tr>\n",
       "      <th>2</th>\n",
       "      <td>3</td>\n",
       "      <td>Grumpier Old Men (1995)</td>\n",
       "    </tr>\n",
       "    <tr>\n",
       "      <th>3</th>\n",
       "      <td>4</td>\n",
       "      <td>Waiting to Exhale (1995)</td>\n",
       "    </tr>\n",
       "    <tr>\n",
       "      <th>4</th>\n",
       "      <td>5</td>\n",
       "      <td>Father of the Bride Part II (1995)</td>\n",
       "    </tr>\n",
       "  </tbody>\n",
       "</table>\n",
       "</div>"
      ]
     },
     "execution_count": 18,
     "metadata": {},
     "output_type": "execute_result"
    }
   ],
   "execution_count": 18
  },
  {
   "metadata": {
    "ExecuteTime": {
     "end_time": "2024-09-20T06:58:29.006372Z",
     "start_time": "2024-09-20T06:58:18.049835Z"
    }
   },
   "cell_type": "code",
   "source": [
    "rating = pd.read_csv(\"/Users/AyshaZia/Desktop/rating.csv\")\n",
    "rating.columns"
   ],
   "id": "a090f51fada543d8",
   "outputs": [
    {
     "data": {
      "text/plain": [
       "Index(['userId', 'movieId', 'rating', 'timestamp'], dtype='object')"
      ]
     },
     "execution_count": 19,
     "metadata": {},
     "output_type": "execute_result"
    }
   ],
   "execution_count": 19
  },
  {
   "metadata": {
    "ExecuteTime": {
     "end_time": "2024-09-20T06:58:32.352989Z",
     "start_time": "2024-09-20T06:58:30.948056Z"
    }
   },
   "cell_type": "code",
   "source": [
    "rating = rating.loc[:,[\"userId\",\"movieId\",\"rating\"]]\n",
    "rating.head()"
   ],
   "id": "8622c3593b034474",
   "outputs": [
    {
     "data": {
      "text/plain": [
       "   userId  movieId  rating\n",
       "0       1        2     3.5\n",
       "1       1       29     3.5\n",
       "2       1       32     3.5\n",
       "3       1       47     3.5\n",
       "4       1       50     3.5"
      ],
      "text/html": [
       "<div>\n",
       "<style scoped>\n",
       "    .dataframe tbody tr th:only-of-type {\n",
       "        vertical-align: middle;\n",
       "    }\n",
       "\n",
       "    .dataframe tbody tr th {\n",
       "        vertical-align: top;\n",
       "    }\n",
       "\n",
       "    .dataframe thead th {\n",
       "        text-align: right;\n",
       "    }\n",
       "</style>\n",
       "<table border=\"1\" class=\"dataframe\">\n",
       "  <thead>\n",
       "    <tr style=\"text-align: right;\">\n",
       "      <th></th>\n",
       "      <th>userId</th>\n",
       "      <th>movieId</th>\n",
       "      <th>rating</th>\n",
       "    </tr>\n",
       "  </thead>\n",
       "  <tbody>\n",
       "    <tr>\n",
       "      <th>0</th>\n",
       "      <td>1</td>\n",
       "      <td>2</td>\n",
       "      <td>3.5</td>\n",
       "    </tr>\n",
       "    <tr>\n",
       "      <th>1</th>\n",
       "      <td>1</td>\n",
       "      <td>29</td>\n",
       "      <td>3.5</td>\n",
       "    </tr>\n",
       "    <tr>\n",
       "      <th>2</th>\n",
       "      <td>1</td>\n",
       "      <td>32</td>\n",
       "      <td>3.5</td>\n",
       "    </tr>\n",
       "    <tr>\n",
       "      <th>3</th>\n",
       "      <td>1</td>\n",
       "      <td>47</td>\n",
       "      <td>3.5</td>\n",
       "    </tr>\n",
       "    <tr>\n",
       "      <th>4</th>\n",
       "      <td>1</td>\n",
       "      <td>50</td>\n",
       "      <td>3.5</td>\n",
       "    </tr>\n",
       "  </tbody>\n",
       "</table>\n",
       "</div>"
      ]
     },
     "execution_count": 20,
     "metadata": {},
     "output_type": "execute_result"
    }
   ],
   "execution_count": 20
  },
  {
   "metadata": {
    "ExecuteTime": {
     "end_time": "2024-09-20T06:58:36.941891Z",
     "start_time": "2024-09-20T06:58:34.213901Z"
    }
   },
   "cell_type": "code",
   "source": [
    "# then merge movie and rating data\n",
    "data = pd.merge(movie,rating)"
   ],
   "id": "a743c3dacd2c0dda",
   "outputs": [],
   "execution_count": 21
  },
  {
   "metadata": {
    "ExecuteTime": {
     "end_time": "2024-09-20T06:58:40.207398Z",
     "start_time": "2024-09-20T06:58:40.198293Z"
    }
   },
   "cell_type": "code",
   "source": "data.head()",
   "id": "3b963bf3129450b6",
   "outputs": [
    {
     "data": {
      "text/plain": [
       "   movieId             title  userId  rating\n",
       "0        1  Toy Story (1995)       3     4.0\n",
       "1        1  Toy Story (1995)       6     5.0\n",
       "2        1  Toy Story (1995)       8     4.0\n",
       "3        1  Toy Story (1995)      10     4.0\n",
       "4        1  Toy Story (1995)      11     4.5"
      ],
      "text/html": [
       "<div>\n",
       "<style scoped>\n",
       "    .dataframe tbody tr th:only-of-type {\n",
       "        vertical-align: middle;\n",
       "    }\n",
       "\n",
       "    .dataframe tbody tr th {\n",
       "        vertical-align: top;\n",
       "    }\n",
       "\n",
       "    .dataframe thead th {\n",
       "        text-align: right;\n",
       "    }\n",
       "</style>\n",
       "<table border=\"1\" class=\"dataframe\">\n",
       "  <thead>\n",
       "    <tr style=\"text-align: right;\">\n",
       "      <th></th>\n",
       "      <th>movieId</th>\n",
       "      <th>title</th>\n",
       "      <th>userId</th>\n",
       "      <th>rating</th>\n",
       "    </tr>\n",
       "  </thead>\n",
       "  <tbody>\n",
       "    <tr>\n",
       "      <th>0</th>\n",
       "      <td>1</td>\n",
       "      <td>Toy Story (1995)</td>\n",
       "      <td>3</td>\n",
       "      <td>4.0</td>\n",
       "    </tr>\n",
       "    <tr>\n",
       "      <th>1</th>\n",
       "      <td>1</td>\n",
       "      <td>Toy Story (1995)</td>\n",
       "      <td>6</td>\n",
       "      <td>5.0</td>\n",
       "    </tr>\n",
       "    <tr>\n",
       "      <th>2</th>\n",
       "      <td>1</td>\n",
       "      <td>Toy Story (1995)</td>\n",
       "      <td>8</td>\n",
       "      <td>4.0</td>\n",
       "    </tr>\n",
       "    <tr>\n",
       "      <th>3</th>\n",
       "      <td>1</td>\n",
       "      <td>Toy Story (1995)</td>\n",
       "      <td>10</td>\n",
       "      <td>4.0</td>\n",
       "    </tr>\n",
       "    <tr>\n",
       "      <th>4</th>\n",
       "      <td>1</td>\n",
       "      <td>Toy Story (1995)</td>\n",
       "      <td>11</td>\n",
       "      <td>4.5</td>\n",
       "    </tr>\n",
       "  </tbody>\n",
       "</table>\n",
       "</div>"
      ]
     },
     "execution_count": 22,
     "metadata": {},
     "output_type": "execute_result"
    }
   ],
   "execution_count": 22
  },
  {
   "metadata": {
    "ExecuteTime": {
     "end_time": "2024-09-20T06:58:41.847833Z",
     "start_time": "2024-09-20T06:58:41.842041Z"
    }
   },
   "cell_type": "code",
   "source": "data.shape",
   "id": "81072d2f30238b68",
   "outputs": [
    {
     "data": {
      "text/plain": [
       "(20000263, 4)"
      ]
     },
     "execution_count": 23,
     "metadata": {},
     "output_type": "execute_result"
    }
   ],
   "execution_count": 23
  },
  {
   "metadata": {
    "ExecuteTime": {
     "end_time": "2024-09-20T06:58:43.707530Z",
     "start_time": "2024-09-20T06:58:43.703511Z"
    }
   },
   "cell_type": "code",
   "source": "data=data.iloc[:1000000,:]",
   "id": "31374399e720e3b2",
   "outputs": [],
   "execution_count": 24
  },
  {
   "metadata": {
    "ExecuteTime": {
     "end_time": "2024-09-20T06:58:45.758050Z",
     "start_time": "2024-09-20T06:58:45.749210Z"
    }
   },
   "cell_type": "code",
   "source": [
    "data.shape\n",
    "data.head()"
   ],
   "id": "5721f4ac61bcc80a",
   "outputs": [
    {
     "data": {
      "text/plain": [
       "   movieId             title  userId  rating\n",
       "0        1  Toy Story (1995)       3     4.0\n",
       "1        1  Toy Story (1995)       6     5.0\n",
       "2        1  Toy Story (1995)       8     4.0\n",
       "3        1  Toy Story (1995)      10     4.0\n",
       "4        1  Toy Story (1995)      11     4.5"
      ],
      "text/html": [
       "<div>\n",
       "<style scoped>\n",
       "    .dataframe tbody tr th:only-of-type {\n",
       "        vertical-align: middle;\n",
       "    }\n",
       "\n",
       "    .dataframe tbody tr th {\n",
       "        vertical-align: top;\n",
       "    }\n",
       "\n",
       "    .dataframe thead th {\n",
       "        text-align: right;\n",
       "    }\n",
       "</style>\n",
       "<table border=\"1\" class=\"dataframe\">\n",
       "  <thead>\n",
       "    <tr style=\"text-align: right;\">\n",
       "      <th></th>\n",
       "      <th>movieId</th>\n",
       "      <th>title</th>\n",
       "      <th>userId</th>\n",
       "      <th>rating</th>\n",
       "    </tr>\n",
       "  </thead>\n",
       "  <tbody>\n",
       "    <tr>\n",
       "      <th>0</th>\n",
       "      <td>1</td>\n",
       "      <td>Toy Story (1995)</td>\n",
       "      <td>3</td>\n",
       "      <td>4.0</td>\n",
       "    </tr>\n",
       "    <tr>\n",
       "      <th>1</th>\n",
       "      <td>1</td>\n",
       "      <td>Toy Story (1995)</td>\n",
       "      <td>6</td>\n",
       "      <td>5.0</td>\n",
       "    </tr>\n",
       "    <tr>\n",
       "      <th>2</th>\n",
       "      <td>1</td>\n",
       "      <td>Toy Story (1995)</td>\n",
       "      <td>8</td>\n",
       "      <td>4.0</td>\n",
       "    </tr>\n",
       "    <tr>\n",
       "      <th>3</th>\n",
       "      <td>1</td>\n",
       "      <td>Toy Story (1995)</td>\n",
       "      <td>10</td>\n",
       "      <td>4.0</td>\n",
       "    </tr>\n",
       "    <tr>\n",
       "      <th>4</th>\n",
       "      <td>1</td>\n",
       "      <td>Toy Story (1995)</td>\n",
       "      <td>11</td>\n",
       "      <td>4.5</td>\n",
       "    </tr>\n",
       "  </tbody>\n",
       "</table>\n",
       "</div>"
      ]
     },
     "execution_count": 25,
     "metadata": {},
     "output_type": "execute_result"
    }
   ],
   "execution_count": 25
  },
  {
   "metadata": {
    "ExecuteTime": {
     "end_time": "2024-09-20T06:58:48.507858Z",
     "start_time": "2024-09-20T06:58:47.770695Z"
    }
   },
   "cell_type": "code",
   "source": [
    "# Make a pivot table \n",
    "pivot_table = data.pivot_table(index = [\"userId\"],columns = [\"title\"],values = \"rating\")\n",
    "pivot_table.head()"
   ],
   "id": "cad0bfdb437dd2df",
   "outputs": [
    {
     "data": {
      "text/plain": [
       "title   Ace Ventura: When Nature Calls (1995)  Across the Sea of Time (1995)  \\\n",
       "userId                                                                         \n",
       "1                                         NaN                            NaN   \n",
       "2                                         NaN                            NaN   \n",
       "3                                         NaN                            NaN   \n",
       "4                                         3.0                            NaN   \n",
       "5                                         NaN                            NaN   \n",
       "\n",
       "title   Amazing Panda Adventure, The (1995)  American President, The (1995)  \\\n",
       "userId                                                                        \n",
       "1                                       NaN                             NaN   \n",
       "2                                       NaN                             NaN   \n",
       "3                                       NaN                             NaN   \n",
       "4                                       NaN                             NaN   \n",
       "5                                       NaN                             5.0   \n",
       "\n",
       "title   Angela (1995)  Angels and Insects (1995)  \\\n",
       "userId                                             \n",
       "1                 NaN                        NaN   \n",
       "2                 NaN                        NaN   \n",
       "3                 NaN                        NaN   \n",
       "4                 NaN                        NaN   \n",
       "5                 NaN                        NaN   \n",
       "\n",
       "title   Anne Frank Remembered (1995)  Antonia's Line (Antonia) (1995)  \\\n",
       "userId                                                                  \n",
       "1                                NaN                              NaN   \n",
       "2                                NaN                              NaN   \n",
       "3                                NaN                              NaN   \n",
       "4                                NaN                              NaN   \n",
       "5                                NaN                              NaN   \n",
       "\n",
       "title   Assassins (1995)  Babe (1995)  ...  Unforgettable (1996)  \\\n",
       "userId                                 ...                         \n",
       "1                    NaN          NaN  ...                   NaN   \n",
       "2                    NaN          NaN  ...                   NaN   \n",
       "3                    NaN          NaN  ...                   NaN   \n",
       "4                    NaN          NaN  ...                   NaN   \n",
       "5                    NaN          NaN  ...                   NaN   \n",
       "\n",
       "title   Up Close and Personal (1996)  Usual Suspects, The (1995)  \\\n",
       "userId                                                             \n",
       "1                                NaN                         3.5   \n",
       "2                                NaN                         NaN   \n",
       "3                                NaN                         5.0   \n",
       "4                                NaN                         NaN   \n",
       "5                                2.0                         NaN   \n",
       "\n",
       "title   Vampire in Brooklyn (1995)  Waiting to Exhale (1995)  \\\n",
       "userId                                                         \n",
       "1                              NaN                       NaN   \n",
       "2                              NaN                       NaN   \n",
       "3                              NaN                       NaN   \n",
       "4                              NaN                       NaN   \n",
       "5                              NaN                       NaN   \n",
       "\n",
       "title   When Night Is Falling (1995)  \\\n",
       "userId                                 \n",
       "1                                NaN   \n",
       "2                                NaN   \n",
       "3                                NaN   \n",
       "4                                NaN   \n",
       "5                                NaN   \n",
       "\n",
       "title   White Balloon, The (Badkonake sefid) (1995)  White Squall (1996)  \\\n",
       "userId                                                                     \n",
       "1                                               NaN                  NaN   \n",
       "2                                               NaN                  NaN   \n",
       "3                                               NaN                  NaN   \n",
       "4                                               NaN                  NaN   \n",
       "5                                               NaN                  NaN   \n",
       "\n",
       "title   Wings of Courage (1995)  Young Poisoner's Handbook, The (1995)  \n",
       "userId                                                                  \n",
       "1                           NaN                                    NaN  \n",
       "2                           NaN                                    NaN  \n",
       "3                           NaN                                    NaN  \n",
       "4                           NaN                                    NaN  \n",
       "5                           NaN                                    NaN  \n",
       "\n",
       "[5 rows x 146 columns]"
      ],
      "text/html": [
       "<div>\n",
       "<style scoped>\n",
       "    .dataframe tbody tr th:only-of-type {\n",
       "        vertical-align: middle;\n",
       "    }\n",
       "\n",
       "    .dataframe tbody tr th {\n",
       "        vertical-align: top;\n",
       "    }\n",
       "\n",
       "    .dataframe thead th {\n",
       "        text-align: right;\n",
       "    }\n",
       "</style>\n",
       "<table border=\"1\" class=\"dataframe\">\n",
       "  <thead>\n",
       "    <tr style=\"text-align: right;\">\n",
       "      <th>title</th>\n",
       "      <th>Ace Ventura: When Nature Calls (1995)</th>\n",
       "      <th>Across the Sea of Time (1995)</th>\n",
       "      <th>Amazing Panda Adventure, The (1995)</th>\n",
       "      <th>American President, The (1995)</th>\n",
       "      <th>Angela (1995)</th>\n",
       "      <th>Angels and Insects (1995)</th>\n",
       "      <th>Anne Frank Remembered (1995)</th>\n",
       "      <th>Antonia's Line (Antonia) (1995)</th>\n",
       "      <th>Assassins (1995)</th>\n",
       "      <th>Babe (1995)</th>\n",
       "      <th>...</th>\n",
       "      <th>Unforgettable (1996)</th>\n",
       "      <th>Up Close and Personal (1996)</th>\n",
       "      <th>Usual Suspects, The (1995)</th>\n",
       "      <th>Vampire in Brooklyn (1995)</th>\n",
       "      <th>Waiting to Exhale (1995)</th>\n",
       "      <th>When Night Is Falling (1995)</th>\n",
       "      <th>White Balloon, The (Badkonake sefid) (1995)</th>\n",
       "      <th>White Squall (1996)</th>\n",
       "      <th>Wings of Courage (1995)</th>\n",
       "      <th>Young Poisoner's Handbook, The (1995)</th>\n",
       "    </tr>\n",
       "    <tr>\n",
       "      <th>userId</th>\n",
       "      <th></th>\n",
       "      <th></th>\n",
       "      <th></th>\n",
       "      <th></th>\n",
       "      <th></th>\n",
       "      <th></th>\n",
       "      <th></th>\n",
       "      <th></th>\n",
       "      <th></th>\n",
       "      <th></th>\n",
       "      <th></th>\n",
       "      <th></th>\n",
       "      <th></th>\n",
       "      <th></th>\n",
       "      <th></th>\n",
       "      <th></th>\n",
       "      <th></th>\n",
       "      <th></th>\n",
       "      <th></th>\n",
       "      <th></th>\n",
       "      <th></th>\n",
       "    </tr>\n",
       "  </thead>\n",
       "  <tbody>\n",
       "    <tr>\n",
       "      <th>1</th>\n",
       "      <td>NaN</td>\n",
       "      <td>NaN</td>\n",
       "      <td>NaN</td>\n",
       "      <td>NaN</td>\n",
       "      <td>NaN</td>\n",
       "      <td>NaN</td>\n",
       "      <td>NaN</td>\n",
       "      <td>NaN</td>\n",
       "      <td>NaN</td>\n",
       "      <td>NaN</td>\n",
       "      <td>...</td>\n",
       "      <td>NaN</td>\n",
       "      <td>NaN</td>\n",
       "      <td>3.5</td>\n",
       "      <td>NaN</td>\n",
       "      <td>NaN</td>\n",
       "      <td>NaN</td>\n",
       "      <td>NaN</td>\n",
       "      <td>NaN</td>\n",
       "      <td>NaN</td>\n",
       "      <td>NaN</td>\n",
       "    </tr>\n",
       "    <tr>\n",
       "      <th>2</th>\n",
       "      <td>NaN</td>\n",
       "      <td>NaN</td>\n",
       "      <td>NaN</td>\n",
       "      <td>NaN</td>\n",
       "      <td>NaN</td>\n",
       "      <td>NaN</td>\n",
       "      <td>NaN</td>\n",
       "      <td>NaN</td>\n",
       "      <td>NaN</td>\n",
       "      <td>NaN</td>\n",
       "      <td>...</td>\n",
       "      <td>NaN</td>\n",
       "      <td>NaN</td>\n",
       "      <td>NaN</td>\n",
       "      <td>NaN</td>\n",
       "      <td>NaN</td>\n",
       "      <td>NaN</td>\n",
       "      <td>NaN</td>\n",
       "      <td>NaN</td>\n",
       "      <td>NaN</td>\n",
       "      <td>NaN</td>\n",
       "    </tr>\n",
       "    <tr>\n",
       "      <th>3</th>\n",
       "      <td>NaN</td>\n",
       "      <td>NaN</td>\n",
       "      <td>NaN</td>\n",
       "      <td>NaN</td>\n",
       "      <td>NaN</td>\n",
       "      <td>NaN</td>\n",
       "      <td>NaN</td>\n",
       "      <td>NaN</td>\n",
       "      <td>NaN</td>\n",
       "      <td>NaN</td>\n",
       "      <td>...</td>\n",
       "      <td>NaN</td>\n",
       "      <td>NaN</td>\n",
       "      <td>5.0</td>\n",
       "      <td>NaN</td>\n",
       "      <td>NaN</td>\n",
       "      <td>NaN</td>\n",
       "      <td>NaN</td>\n",
       "      <td>NaN</td>\n",
       "      <td>NaN</td>\n",
       "      <td>NaN</td>\n",
       "    </tr>\n",
       "    <tr>\n",
       "      <th>4</th>\n",
       "      <td>3.0</td>\n",
       "      <td>NaN</td>\n",
       "      <td>NaN</td>\n",
       "      <td>NaN</td>\n",
       "      <td>NaN</td>\n",
       "      <td>NaN</td>\n",
       "      <td>NaN</td>\n",
       "      <td>NaN</td>\n",
       "      <td>NaN</td>\n",
       "      <td>NaN</td>\n",
       "      <td>...</td>\n",
       "      <td>NaN</td>\n",
       "      <td>NaN</td>\n",
       "      <td>NaN</td>\n",
       "      <td>NaN</td>\n",
       "      <td>NaN</td>\n",
       "      <td>NaN</td>\n",
       "      <td>NaN</td>\n",
       "      <td>NaN</td>\n",
       "      <td>NaN</td>\n",
       "      <td>NaN</td>\n",
       "    </tr>\n",
       "    <tr>\n",
       "      <th>5</th>\n",
       "      <td>NaN</td>\n",
       "      <td>NaN</td>\n",
       "      <td>NaN</td>\n",
       "      <td>5.0</td>\n",
       "      <td>NaN</td>\n",
       "      <td>NaN</td>\n",
       "      <td>NaN</td>\n",
       "      <td>NaN</td>\n",
       "      <td>NaN</td>\n",
       "      <td>NaN</td>\n",
       "      <td>...</td>\n",
       "      <td>NaN</td>\n",
       "      <td>2.0</td>\n",
       "      <td>NaN</td>\n",
       "      <td>NaN</td>\n",
       "      <td>NaN</td>\n",
       "      <td>NaN</td>\n",
       "      <td>NaN</td>\n",
       "      <td>NaN</td>\n",
       "      <td>NaN</td>\n",
       "      <td>NaN</td>\n",
       "    </tr>\n",
       "  </tbody>\n",
       "</table>\n",
       "<p>5 rows × 146 columns</p>\n",
       "</div>"
      ]
     },
     "execution_count": 26,
     "metadata": {},
     "output_type": "execute_result"
    }
   ],
   "execution_count": 26
  },
  {
   "metadata": {
    "ExecuteTime": {
     "end_time": "2024-09-20T06:58:50.316712Z",
     "start_time": "2024-09-20T06:58:50.311343Z"
    }
   },
   "cell_type": "code",
   "source": "pivot_table.shape   ",
   "id": "3a902c88252c1731",
   "outputs": [
    {
     "data": {
      "text/plain": [
       "(123161, 146)"
      ]
     },
     "execution_count": 27,
     "metadata": {},
     "output_type": "execute_result"
    }
   ],
   "execution_count": 27
  },
  {
   "metadata": {
    "ExecuteTime": {
     "end_time": "2024-09-20T06:59:21.849802Z",
     "start_time": "2024-09-20T06:59:21.828129Z"
    }
   },
   "cell_type": "code",
   "source": [
    "movie_watched = pivot_table[\"Toy Story (1995)\"]\n",
    "movie_watched"
   ],
   "id": "5a04627bb8fa2494",
   "outputs": [
    {
     "data": {
      "text/plain": [
       "userId\n",
       "1         NaN\n",
       "2         NaN\n",
       "3         4.0\n",
       "4         NaN\n",
       "5         NaN\n",
       "         ... \n",
       "138489    NaN\n",
       "138490    NaN\n",
       "138491    2.0\n",
       "138492    NaN\n",
       "138493    3.5\n",
       "Name: Toy Story (1995), Length: 123161, dtype: float64"
      ]
     },
     "execution_count": 28,
     "metadata": {},
     "output_type": "execute_result"
    }
   ],
   "execution_count": 28
  },
  {
   "metadata": {
    "ExecuteTime": {
     "end_time": "2024-09-20T07:05:04.581575Z",
     "start_time": "2024-09-20T07:05:04.434739Z"
    }
   },
   "cell_type": "code",
   "source": [
    "movie_watched = pivot_table[\"Toy Story (1995)\"]\n",
    "# find correlation between movies\n",
    "similarity_with_other_movies = pivot_table.corrwith(movie_watched)\n",
    "\n",
    "similarity_with_other_movies = similarity_with_other_movies.sort_values(ascending=False)\n",
    "\n",
    "similarity_with_other_movies.head(10)"
   ],
   "id": "12fc716daa019738",
   "outputs": [
    {
     "data": {
      "text/plain": [
       "title\n",
       "Toy Story (1995)                                                  1.000000\n",
       "Gospa (1995)                                                      0.516264\n",
       "Shadows (Cienie) (1988)                                           0.508859\n",
       "Happiness Is in the Field (Bonheur est dans le pré, Le) (1995)    0.495360\n",
       "Across the Sea of Time (1995)                                     0.461406\n",
       "Guardian Angel (1994)                                             0.448342\n",
       "Angela (1995)                                                     0.401684\n",
       "Babe (1995)                                                       0.392358\n",
       "Wings of Courage (1995)                                           0.381326\n",
       "Jumanji (1995)                                                    0.314554\n",
       "dtype: float64"
      ]
     },
     "execution_count": 39,
     "metadata": {},
     "output_type": "execute_result"
    }
   ],
   "execution_count": 39
  },
  {
   "metadata": {
    "ExecuteTime": {
     "end_time": "2024-09-20T07:04:58.578702Z",
     "start_time": "2024-09-20T07:04:58.450530Z"
    }
   },
   "cell_type": "code",
   "source": [
    "movie_watched = pivot_table[\"Bad Boys (1995)\"]\n",
    "# find correlation between movies\n",
    "similarity_with_other_movies = pivot_table.corrwith(movie_watched)\n",
    "\n",
    "similarity_with_other_movies = similarity_with_other_movies.sort_values(ascending=False)\n",
    "\n",
    "similarity_with_other_movies.head(10)"
   ],
   "id": "4eaa81429ce0ef52",
   "outputs": [
    {
     "data": {
      "text/plain": [
       "title\n",
       "Bad Boys (1995)                        1.000000\n",
       "Headless Body in Topless Bar (1995)    0.723747\n",
       "Last Summer in the Hamptons (1995)     0.607554\n",
       "Two Bits (1995)                        0.507008\n",
       "Shadows (Cienie) (1988)                0.494186\n",
       "Guardian Angel (1994)                  0.465218\n",
       "Money Train (1995)                     0.451802\n",
       "Across the Sea of Time (1995)          0.450071\n",
       "Assassins (1995)                       0.427445\n",
       "Vampire in Brooklyn (1995)             0.426861\n",
       "dtype: float64"
      ]
     },
     "execution_count": 38,
     "metadata": {},
     "output_type": "execute_result"
    }
   ],
   "execution_count": 38
  },
  {
   "metadata": {},
   "cell_type": "code",
   "outputs": [],
   "execution_count": null,
   "source": "",
   "id": "4e478ab12ccb095b"
  }
 ],
 "metadata": {
  "kernelspec": {
   "display_name": "Python 3",
   "language": "python",
   "name": "python3"
  },
  "language_info": {
   "codemirror_mode": {
    "name": "ipython",
    "version": 2
   },
   "file_extension": ".py",
   "mimetype": "text/x-python",
   "name": "python",
   "nbconvert_exporter": "python",
   "pygments_lexer": "ipython2",
   "version": "2.7.6"
  }
 },
 "nbformat": 4,
 "nbformat_minor": 5
}
